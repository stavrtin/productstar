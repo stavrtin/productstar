{
 "cells": [
  {
   "cell_type": "code",
   "execution_count": 41,
   "id": "184fca83-777d-49e9-bf79-1279786efe8f",
   "metadata": {},
   "outputs": [],
   "source": [
    "# домашнее задание №2"
   ]
  },
  {
   "cell_type": "code",
   "execution_count": 42,
   "id": "3c2d3f51-451b-4e6c-a4d3-74d8a07ca341",
   "metadata": {},
   "outputs": [
    {
     "data": {
      "text/html": [
       "<img src=\"https://productstar-2.storage.yandexcloud.net/upload/2023-02-28_Clip_path_group.svg\" width=\"300\" height=\"300\"/>"
      ],
      "text/plain": [
       "<IPython.core.display.Image object>"
      ]
     },
     "execution_count": 42,
     "metadata": {},
     "output_type": "execute_result"
    }
   ],
   "source": [
    "Image(url=\"https://productstar-2.storage.yandexcloud.net/upload/2023-02-28_Clip_path_group.svg\", width=300, height=300)"
   ]
  },
  {
   "cell_type": "code",
   "execution_count": 23,
   "id": "7055f5cc-4d0f-4950-95de-14aa52d7b5d8",
   "metadata": {},
   "outputs": [],
   "source": [
    "from IPython.display import Image \n",
    "import math"
   ]
  },
  {
   "cell_type": "code",
   "execution_count": 47,
   "id": "a681247b-d95e-49a5-bf61-316402122ec6",
   "metadata": {},
   "outputs": [],
   "source": [
    "def squart():\n",
    "    a = int(input('Введите А'))\n",
    "    b = int(input('Введите B'))\n",
    "    c = int(input('Введите C'))\n",
    "    if d > 0:\n",
    "        x1 = ( (-1) * b + math.sqrt(d)) / ( 2 * a)\n",
    "        x2 = ( (-1) * b - math.sqrt(d)) / ( 2 * a)\n",
    "        print(f'{x1=}')\n",
    "        print(f'{x2=}')\n",
    "    \n",
    "    elif d == 0:\n",
    "        x1 =  (-1) * b / ( 2 * a)\n",
    "        print(f'{x1=}')\n",
    "    else:\n",
    "        print(f'Корей нет')\n",
    "    return "
   ]
  },
  {
   "cell_type": "code",
   "execution_count": 48,
   "id": "73de0d43-18c3-4c75-a2eb-bc3cbe219aba",
   "metadata": {},
   "outputs": [
    {
     "name": "stdin",
     "output_type": "stream",
     "text": [
      "Введите А 2\n",
      "Введите B 4\n",
      "Введите C 5\n"
     ]
    },
    {
     "name": "stdout",
     "output_type": "stream",
     "text": [
      "x1=7.75\n",
      "x2=-9.75\n"
     ]
    }
   ],
   "source": [
    "squart()"
   ]
  },
  {
   "cell_type": "code",
   "execution_count": null,
   "id": "3ce6c7f5-134c-47ea-bc5c-63e8b8a55cbc",
   "metadata": {},
   "outputs": [],
   "source": []
  }
 ],
 "metadata": {
  "kernelspec": {
   "display_name": "Python 3 (ipykernel)",
   "language": "python",
   "name": "python3"
  },
  "language_info": {
   "codemirror_mode": {
    "name": "ipython",
    "version": 3
   },
   "file_extension": ".py",
   "mimetype": "text/x-python",
   "name": "python",
   "nbconvert_exporter": "python",
   "pygments_lexer": "ipython3",
   "version": "3.9.13"
  }
 },
 "nbformat": 4,
 "nbformat_minor": 5
}
