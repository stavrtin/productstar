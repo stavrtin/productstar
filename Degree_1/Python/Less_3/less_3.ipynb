{
 "cells": [
  {
   "cell_type": "markdown",
   "id": "521554f8-2700-4b81-8f29-6e4a5e3da15a",
   "metadata": {},
   "source": [
    "### Строки. Условия и циклы"
   ]
  },
  {
   "cell_type": "markdown",
   "id": "9def3af1-51b0-4347-bb28-06c804f22087",
   "metadata": {},
   "source": [
    "Задача: реализовать тестирование пользователя по пройденному материалу.\n",
    "\n",
    "\n",
    "Требования:\n",
    "\n",
    "Программа выводит в консоль текст загадок по одной и ждет ввода ответа от пользователя.\n",
    "\n",
    "Программа после ввода ответа пользователя должна вывести в консоль результат. Если пользователь дал правильный ответ, то программа должна написать \"Ответ {ОТВЕТ_ПОЛЬЗОВАТЕЛЯ} верен\". Вместо \"{ОТВЕТ_ПОЛЬЗОВАТЕЛЯ}\" необходимо подставить ответ, введенный пользователем. Если пользователь ввел неправильный ответ, то программа должна написать \"Неверный ответ.\" и задать вопрос снова, пока пользователь не введет правильный ответ.\n",
    "\n",
    "Программа задает пользователю 10 вопросов.\n",
    "\n",
    "Примеры вопросов и правильных ответов для работы:\n",
    "\n",
    "«Какая версия языка сейчас актуальна?» – «Python3»\n",
    "«Какая кодировка используется в строках?» – «UTF8»\n",
    "«Сколько значений есть у bool?» – «2»\n",
    "Остальные, нужно придумать самостоятельно (из пройденного материала).\n",
    "\n",
    "\n",
    "Дополнительные требования:\n",
    "\n",
    "Программа должна в конце игры сказать, сколько ответов дал пользователь: сколько из них было верных.\n",
    "Программа должна не учитывать регистр ответа пользователя, например: \"utf8\" и \"UTF8\" оба должны быть правильным ответом на вопрос \"Какая кодировка используется в строках?\""
   ]
  },
  {
   "cell_type": "code",
   "execution_count": 77,
   "id": "ada3708c-e7bf-44ba-80ae-832d39943778",
   "metadata": {},
   "outputs": [],
   "source": [
    "import pandas as pd"
   ]
  },
  {
   "cell_type": "code",
   "execution_count": 78,
   "id": "57c3c8b8-db4e-4221-a310-f7c5e267d07f",
   "metadata": {},
   "outputs": [],
   "source": [
    "df = pd.read_csv('Вопросы.csv',sep=\";\", encoding='cp1251')"
   ]
  },
  {
   "cell_type": "code",
   "execution_count": 79,
   "id": "cc58f44d-443e-4121-a0d8-f51479195cc1",
   "metadata": {},
   "outputs": [
    {
     "data": {
      "text/html": [
       "<div>\n",
       "<style scoped>\n",
       "    .dataframe tbody tr th:only-of-type {\n",
       "        vertical-align: middle;\n",
       "    }\n",
       "\n",
       "    .dataframe tbody tr th {\n",
       "        vertical-align: top;\n",
       "    }\n",
       "\n",
       "    .dataframe thead th {\n",
       "        text-align: right;\n",
       "    }\n",
       "</style>\n",
       "<table border=\"1\" class=\"dataframe\">\n",
       "  <thead>\n",
       "    <tr style=\"text-align: right;\">\n",
       "      <th></th>\n",
       "      <th>Вопрос</th>\n",
       "      <th>Ответ</th>\n",
       "      <th>Кол_попыток</th>\n",
       "    </tr>\n",
       "  </thead>\n",
       "  <tbody>\n",
       "    <tr>\n",
       "      <th>0</th>\n",
       "      <td>вопрос_1</td>\n",
       "      <td>ответ 1</td>\n",
       "      <td>NaN</td>\n",
       "    </tr>\n",
       "    <tr>\n",
       "      <th>1</th>\n",
       "      <td>вопрос_2</td>\n",
       "      <td>отВет 2</td>\n",
       "      <td>NaN</td>\n",
       "    </tr>\n",
       "    <tr>\n",
       "      <th>2</th>\n",
       "      <td>вопрос_3</td>\n",
       "      <td>ОТВЕТ 3</td>\n",
       "      <td>NaN</td>\n",
       "    </tr>\n",
       "  </tbody>\n",
       "</table>\n",
       "</div>"
      ],
      "text/plain": [
       "     Вопрос    Ответ  Кол_попыток\n",
       "0  вопрос_1  ответ 1          NaN\n",
       "1  вопрос_2  отВет 2          NaN\n",
       "2  вопрос_3  ОТВЕТ 3          NaN"
      ]
     },
     "execution_count": 79,
     "metadata": {},
     "output_type": "execute_result"
    }
   ],
   "source": [
    "df"
   ]
  },
  {
   "cell_type": "code",
   "execution_count": 80,
   "id": "a0eeb83d-d3a6-4530-aeb4-9ff45d508c8b",
   "metadata": {},
   "outputs": [],
   "source": [
    "# к нижнему регистру\n",
    "df['Ответ'] = df['Ответ'].str.lower()"
   ]
  },
  {
   "cell_type": "code",
   "execution_count": 81,
   "id": "c0253535-b680-4bd7-a4ba-ee32d9bf19a0",
   "metadata": {},
   "outputs": [
    {
     "name": "stdout",
     "output_type": "stream",
     "text": [
      "Вопрос  1\n"
     ]
    },
    {
     "name": "stdin",
     "output_type": "stream",
     "text": [
      "Введите ответ: ответ 1\n"
     ]
    },
    {
     "name": "stdout",
     "output_type": "stream",
     "text": [
      "Вопрос  2\n"
     ]
    },
    {
     "name": "stdin",
     "output_type": "stream",
     "text": [
      "Введите ответ: ответ 2\n"
     ]
    },
    {
     "name": "stdout",
     "output_type": "stream",
     "text": [
      "Вопрос  3\n"
     ]
    },
    {
     "name": "stdin",
     "output_type": "stream",
     "text": [
      "Введите ответ: ответ 3\n"
     ]
    },
    {
     "data": {
      "text/html": [
       "<div>\n",
       "<style scoped>\n",
       "    .dataframe tbody tr th:only-of-type {\n",
       "        vertical-align: middle;\n",
       "    }\n",
       "\n",
       "    .dataframe tbody tr th {\n",
       "        vertical-align: top;\n",
       "    }\n",
       "\n",
       "    .dataframe thead th {\n",
       "        text-align: right;\n",
       "    }\n",
       "</style>\n",
       "<table border=\"1\" class=\"dataframe\">\n",
       "  <thead>\n",
       "    <tr style=\"text-align: right;\">\n",
       "      <th></th>\n",
       "      <th>Вопрос</th>\n",
       "      <th>Ответ</th>\n",
       "      <th>Кол_попыток</th>\n",
       "    </tr>\n",
       "  </thead>\n",
       "  <tbody>\n",
       "    <tr>\n",
       "      <th>0</th>\n",
       "      <td>вопрос_1</td>\n",
       "      <td>ответ 1</td>\n",
       "      <td>1.0</td>\n",
       "    </tr>\n",
       "    <tr>\n",
       "      <th>1</th>\n",
       "      <td>вопрос_2</td>\n",
       "      <td>ответ 2</td>\n",
       "      <td>1.0</td>\n",
       "    </tr>\n",
       "    <tr>\n",
       "      <th>2</th>\n",
       "      <td>вопрос_3</td>\n",
       "      <td>ответ 3</td>\n",
       "      <td>1.0</td>\n",
       "    </tr>\n",
       "  </tbody>\n",
       "</table>\n",
       "</div>"
      ],
      "text/plain": [
       "     Вопрос    Ответ  Кол_попыток\n",
       "0  вопрос_1  ответ 1          1.0\n",
       "1  вопрос_2  ответ 2          1.0\n",
       "2  вопрос_3  ответ 3          1.0"
      ]
     },
     "execution_count": 81,
     "metadata": {},
     "output_type": "execute_result"
    }
   ],
   "source": [
    "step = 0\n",
    "while step < len(df.index):\n",
    "    # print(step)\n",
    "    print('Вопрос ',step + 1)\n",
    "    answ_corr = False\n",
    "    count_try = 1\n",
    "    while not answ_corr:  \n",
    "        answ = input('Введите ответ:')\n",
    "        answ = answ.lower()\n",
    "        if answ == df['Ответ'].loc[df.index[step]]:\n",
    "            df.at[step, 'Кол_попыток'] = count_try\n",
    "            answ_corr = True\n",
    "        else: \n",
    "            print('Еще раз') \n",
    "            count_try += 1\n",
    "                    \n",
    "    step += 1\n",
    "df"
   ]
  },
  {
   "cell_type": "code",
   "execution_count": null,
   "id": "83bac4dd-a321-4936-8dd1-132de5f61524",
   "metadata": {},
   "outputs": [],
   "source": []
  }
 ],
 "metadata": {
  "kernelspec": {
   "display_name": "Python 3 (ipykernel)",
   "language": "python",
   "name": "python3"
  },
  "language_info": {
   "codemirror_mode": {
    "name": "ipython",
    "version": 3
   },
   "file_extension": ".py",
   "mimetype": "text/x-python",
   "name": "python",
   "nbconvert_exporter": "python",
   "pygments_lexer": "ipython3",
   "version": "3.9.13"
  }
 },
 "nbformat": 4,
 "nbformat_minor": 5
}
